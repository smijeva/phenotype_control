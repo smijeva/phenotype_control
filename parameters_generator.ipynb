{
 "cells": [
  {
   "cell_type": "code",
   "execution_count": 1,
   "outputs": [],
   "source": [
    "from pathlib import Path\n",
    "from itertools import combinations, permutations\n",
    "from tqdm import tqdm\n",
    "import os\n",
    "import random\n",
    "import biodivine_aeon as ba\n",
    "import pickle\n",
    "import math\n",
    "\n",
    "\n",
    "MODELS_FOLDER = \".\\\\models\"\n",
    "SELECTED_MODELS_EXP_1_FOLDER = \"\\\\selected_models_exp_1\"\n",
    "CARDINALITIES_DICT_PICKL_FILE = 'cardinalities.pickle'\n",
    "MAX_COMBINATIONS_NUM = 3000\n",
    "file_cache = {}\n",
    "RANDOM_SEED = 10\n",
    "aeon_files = [f for f in os.listdir(MODELS_FOLDER)]\n",
    "\n",
    "\n",
    "def load_boolean_network(file):\n",
    "    if file not in file_cache.keys():\n",
    "        file_cache[file] = Path(os.path.join(MODELS_FOLDER, file)).read_text()\n",
    "    return ba.BooleanNetwork.from_aeon(file_cache[file])\n",
    "\n",
    "\n",
    "def get_model_colours(file, variable_combination):\n",
    "    tmp_model = load_boolean_network(file)\n",
    "    for v in variable_combination:\n",
    "        # Remove variable's update function; make it unknown\n",
    "        tmp_model.set_update_function(v, None)\n",
    "\n",
    "    graph = ba.PerturbationGraph(tmp_model)\n",
    "    # The total colour of perturbed model\n",
    "    full_colours = graph.as_original().unit_colors().cardinality()\n",
    "    # 2^#vars colours come from artificial perturbation parameters (is_var_pertubred)\n",
    "    colours_from_variables = 2 ** len(graph.as_original().network().variables())\n",
    "    # The remaining colours come from model's own uncertainty\n",
    "    colours_from_params = full_colours / colours_from_variables\n",
    "    return colours_from_params"
   ],
   "metadata": {
    "collapsed": false,
    "pycharm": {
     "name": "#%%\n"
    }
   }
  },
  {
   "cell_type": "code",
   "execution_count": 2,
   "outputs": [
    {
     "name": "stdout",
     "output_type": "stream",
     "text": [
      "cardiac_witness.aeon\n"
     ]
    },
    {
     "name": "stderr",
     "output_type": "stream",
     "text": [
      "100%|██████████| 330/330 [00:03<00:00, 107.17it/s]\n"
     ]
    },
    {
     "name": "stdout",
     "output_type": "stream",
     "text": [
      "erbb_witness.aeon\n"
     ]
    },
    {
     "name": "stderr",
     "output_type": "stream",
     "text": [
      " 30%|███       | 714/2380 [01:14<02:53,  9.63it/s]\n"
     ]
    },
    {
     "ename": "KeyboardInterrupt",
     "evalue": "",
     "output_type": "error",
     "traceback": [
      "\u001B[1;31m---------------------------------------------------------------------------\u001B[0m",
      "\u001B[1;31mKeyboardInterrupt\u001B[0m                         Traceback (most recent call last)",
      "Input \u001B[1;32mIn [2]\u001B[0m, in \u001B[0;36m<cell line: 3>\u001B[1;34m()\u001B[0m\n\u001B[0;32m     19\u001B[0m combinations_to_try \u001B[38;5;241m=\u001B[39m all_combinations \u001B[38;5;28;01mif\u001B[39;00m \u001B[38;5;28mlen\u001B[39m(all_combinations) \u001B[38;5;241m<\u001B[39m\u001B[38;5;241m=\u001B[39m MAX_COMBINATIONS_NUM \u001B[38;5;28;01melse\u001B[39;00m random\u001B[38;5;241m.\u001B[39msample(all_combinations, MAX_COMBINATIONS_NUM)\n\u001B[0;32m     21\u001B[0m \u001B[38;5;66;03m# For every model, remember a list of colours cardinalities along with the variable combinations which cause them\u001B[39;00m\n\u001B[1;32m---> 22\u001B[0m cardinalities_dict[f] \u001B[38;5;241m=\u001B[39m \u001B[38;5;28;43mlist\u001B[39;49m\u001B[43m(\u001B[49m\u001B[43mtqdm\u001B[49m\u001B[43m(\u001B[49m\u001B[43m(\u001B[49m\u001B[43m(\u001B[49m\u001B[43mvc\u001B[49m\u001B[43m,\u001B[49m\u001B[43m \u001B[49m\u001B[43mget_model_colours\u001B[49m\u001B[43m(\u001B[49m\u001B[43mf\u001B[49m\u001B[43m,\u001B[49m\u001B[43m \u001B[49m\u001B[43mvc\u001B[49m\u001B[43m)\u001B[49m\u001B[43m)\u001B[49m\u001B[43m \u001B[49m\u001B[38;5;28;43;01mfor\u001B[39;49;00m\u001B[43m \u001B[49m\u001B[43mvc\u001B[49m\u001B[43m \u001B[49m\u001B[38;5;129;43;01min\u001B[39;49;00m\u001B[43m \u001B[49m\u001B[43mcombinations_to_try\u001B[49m\u001B[43m)\u001B[49m\u001B[43m,\u001B[49m\u001B[43m \u001B[49m\u001B[43mtotal\u001B[49m\u001B[38;5;241;43m=\u001B[39;49m\u001B[38;5;28;43mlen\u001B[39;49m\u001B[43m(\u001B[49m\u001B[43mcombinations_to_try\u001B[49m\u001B[43m)\u001B[49m\u001B[43m)\u001B[49m\u001B[43m)\u001B[49m\n",
      "File \u001B[1;32mC:\\git\\phenotype_control\\venv\\lib\\site-packages\\tqdm\\std.py:1195\u001B[0m, in \u001B[0;36mtqdm.__iter__\u001B[1;34m(self)\u001B[0m\n\u001B[0;32m   1192\u001B[0m time \u001B[38;5;241m=\u001B[39m \u001B[38;5;28mself\u001B[39m\u001B[38;5;241m.\u001B[39m_time\n\u001B[0;32m   1194\u001B[0m \u001B[38;5;28;01mtry\u001B[39;00m:\n\u001B[1;32m-> 1195\u001B[0m     \u001B[38;5;28;01mfor\u001B[39;00m obj \u001B[38;5;129;01min\u001B[39;00m iterable:\n\u001B[0;32m   1196\u001B[0m         \u001B[38;5;28;01myield\u001B[39;00m obj\n\u001B[0;32m   1197\u001B[0m         \u001B[38;5;66;03m# Update and possibly print the progressbar.\u001B[39;00m\n\u001B[0;32m   1198\u001B[0m         \u001B[38;5;66;03m# Note: does not call self.update(1) for speed optimisation.\u001B[39;00m\n",
      "Input \u001B[1;32mIn [2]\u001B[0m, in \u001B[0;36m<genexpr>\u001B[1;34m(.0)\u001B[0m\n\u001B[0;32m     19\u001B[0m combinations_to_try \u001B[38;5;241m=\u001B[39m all_combinations \u001B[38;5;28;01mif\u001B[39;00m \u001B[38;5;28mlen\u001B[39m(all_combinations) \u001B[38;5;241m<\u001B[39m\u001B[38;5;241m=\u001B[39m MAX_COMBINATIONS_NUM \u001B[38;5;28;01melse\u001B[39;00m random\u001B[38;5;241m.\u001B[39msample(all_combinations, MAX_COMBINATIONS_NUM)\n\u001B[0;32m     21\u001B[0m \u001B[38;5;66;03m# For every model, remember a list of colours cardinalities along with the variable combinations which cause them\u001B[39;00m\n\u001B[1;32m---> 22\u001B[0m cardinalities_dict[f] \u001B[38;5;241m=\u001B[39m \u001B[38;5;28mlist\u001B[39m(tqdm(((vc, \u001B[43mget_model_colours\u001B[49m\u001B[43m(\u001B[49m\u001B[43mf\u001B[49m\u001B[43m,\u001B[49m\u001B[43m \u001B[49m\u001B[43mvc\u001B[49m\u001B[43m)\u001B[49m) \u001B[38;5;28;01mfor\u001B[39;00m vc \u001B[38;5;129;01min\u001B[39;00m combinations_to_try), total\u001B[38;5;241m=\u001B[39m\u001B[38;5;28mlen\u001B[39m(combinations_to_try)))\n",
      "Input \u001B[1;32mIn [1]\u001B[0m, in \u001B[0;36mget_model_colours\u001B[1;34m(file, variable_combination)\u001B[0m\n\u001B[0;32m     32\u001B[0m graph \u001B[38;5;241m=\u001B[39m ba\u001B[38;5;241m.\u001B[39mPerturbationGraph(tmp_model)\n\u001B[0;32m     33\u001B[0m \u001B[38;5;66;03m# The total colour of perturbed model\u001B[39;00m\n\u001B[1;32m---> 34\u001B[0m full_colours \u001B[38;5;241m=\u001B[39m \u001B[43mgraph\u001B[49m\u001B[38;5;241;43m.\u001B[39;49m\u001B[43mas_original\u001B[49m()\u001B[38;5;241m.\u001B[39munit_colors()\u001B[38;5;241m.\u001B[39mcardinality()\n\u001B[0;32m     35\u001B[0m \u001B[38;5;66;03m# 2^#vars colours come from artificial perturbation parameters (is_var_pertubred)\u001B[39;00m\n\u001B[0;32m     36\u001B[0m colours_from_variables \u001B[38;5;241m=\u001B[39m \u001B[38;5;241m2\u001B[39m \u001B[38;5;241m*\u001B[39m\u001B[38;5;241m*\u001B[39m \u001B[38;5;28mlen\u001B[39m(graph\u001B[38;5;241m.\u001B[39mas_original()\u001B[38;5;241m.\u001B[39mnetwork()\u001B[38;5;241m.\u001B[39mvariables())\n",
      "\u001B[1;31mKeyboardInterrupt\u001B[0m: "
     ]
    }
   ],
   "source": [
    "cardinalities_dict = {}\n",
    "\n",
    "for f in aeon_files:\n",
    "    print(f)\n",
    "    model = load_boolean_network(f)\n",
    "    vars = model.variables()\n",
    "    rg = model.graph()\n",
    "\n",
    "    # Variables with 0 arity have low effect, variables over 4 could explode colours too much\n",
    "    relevant_vars = [model.get_variable_name(v) for v in vars if 0 < len(rg.regulators(v)) <= 4]\n",
    "\n",
    "    # Generate possible combinations of relevant variables\n",
    "    all_combinations = [x for x in combinations(relevant_vars, 4)]\n",
    "\n",
    "    # Make random determinisitic\n",
    "    random.seed(RANDOM_SEED)\n",
    "\n",
    "    # If there are too many combinations, select just a sample\n",
    "    combinations_to_try = all_combinations if len(all_combinations) <= MAX_COMBINATIONS_NUM else random.sample(all_combinations, MAX_COMBINATIONS_NUM)\n",
    "\n",
    "    # For every model, remember a list of colours cardinalities along with the variable combinations which cause them\n",
    "    cardinalities_dict[f] = list(tqdm(((vc, get_model_colours(f, vc)) for vc in combinations_to_try), total=len(combinations_to_try)))"
   ],
   "metadata": {
    "collapsed": false,
    "pycharm": {
     "name": "#%%\n"
    }
   }
  },
  {
   "cell_type": "code",
   "execution_count": null,
   "outputs": [],
   "source": [
    "# Preserve results of long-running computation\n",
    "\n",
    "with open(CARDINALITIES_DICT_PICKL_FILE, 'wb') as handle:\n",
    "    pickle.dump(cardinalities_dict, handle)"
   ],
   "metadata": {
    "collapsed": false,
    "pycharm": {
     "name": "#%%\n"
    }
   }
  },
  {
   "cell_type": "code",
   "execution_count": null,
   "outputs": [],
   "source": [
    "# Load results of long-running computation\n",
    "\n",
    "with open(CARDINALITIES_DICT_PICKL_FILE, 'rb') as handle:\n",
    "    cardinalities_dict = pickle.load(handle)"
   ],
   "metadata": {
    "collapsed": false,
    "pycharm": {
     "name": "#%%\n"
    }
   }
  },
  {
   "cell_type": "code",
   "execution_count": null,
   "outputs": [],
   "source": [
    "print([y for _x,y in cardinalities_dict['myeloid_witness.aeon']])"
   ],
   "metadata": {
    "collapsed": false,
    "pycharm": {
     "name": "#%%\n"
    }
   }
  },
  {
   "cell_type": "code",
   "execution_count": null,
   "outputs": [],
   "source": [
    "sets = []\n",
    "for _key, value in cardinalities_dict.items():\n",
    "    sets.append(set([y for _x,y in value]))\n",
    "\n",
    "available_colours_cardinality = set.intersection(*sets)\n",
    "print(available_colours_cardinality)"
   ],
   "metadata": {
    "collapsed": false,
    "pycharm": {
     "name": "#%%\n"
    }
   }
  },
  {
   "cell_type": "code",
   "execution_count": null,
   "outputs": [],
   "source": [
    "for v in available_colours_cardinality:\n",
    "    print(f'Colours from params {v:.1f} (2^{math.log2(v)})')\n",
    "    for m in aeon_files:\n",
    "        satisfactory_var_combinations = [vc for vc, cols in cardinalities_dict[m] if cols == v]\n",
    "        print(m, len(satisfactory_var_combinations))"
   ],
   "metadata": {
    "collapsed": false,
    "pycharm": {
     "name": "#%%\n"
    }
   }
  },
  {
   "cell_type": "code",
   "execution_count": null,
   "outputs": [],
   "source": [
    "selected_colours_cardinality = min(available_colours_cardinality)\n",
    "\n",
    "for m in aeon_files:\n",
    "    satisfactory_var_combination = [vc for vc, cols in cardinalities_dict[m] if cols == selected_colours_cardinality].pop()\n",
    "    # Generate BN again (we saved just the unknown var combinations)\n",
    "    model = load_boolean_network(m)\n",
    "    for v in satisfactory_var_combination:\n",
    "        # Remove variable's update function; make it unknown\n",
    "        model.set_update_function(v, None)\n",
    "\n",
    "    with open(f\".\\\\{SELECTED_MODELS_EXP_1_FOLDER}\\\\{m.split('_')[0]}_4unknown.aeon\", \"wb\") as handle:\n",
    "        handle.write(model.to_aeon().encode())"
   ],
   "metadata": {
    "collapsed": false,
    "pycharm": {
     "name": "#%%\n"
    }
   }
  },
  {
   "cell_type": "code",
   "execution_count": null,
   "outputs": [],
   "source": [
    "model = load_boolean_network(f\"tumour_witness.aeon\")\n",
    "vars = model.variables()\n",
    "rg = model.graph()\n",
    "print(len(vars))\n",
    "\n",
    "# Variables with 0 arity have low effect, variables over 4 could explode colours too much\n",
    "relevant_vars = [model.get_variable_name(v) for v in vars if 0 < len(rg.regulators(v)) <= 5]\n",
    "\n",
    "# Generate possible ordering of relevant variables\n",
    "all_perms = [x for x in permutations(relevant_vars, 5)]"
   ],
   "metadata": {
    "collapsed": false,
    "pycharm": {
     "name": "#%%\n"
    }
   }
  },
  {
   "cell_type": "code",
   "execution_count": null,
   "outputs": [],
   "source": [
    "for var in vars:\n",
    "    v = model.get_variable_name(var)\n",
    "    print(f\"{v} has {len(rg.regulators(v))} regulators and {len(rg.targets(v))} targets\")"
   ],
   "metadata": {
    "collapsed": false,
    "pycharm": {
     "name": "#%%\n"
    }
   }
  },
  {
   "cell_type": "code",
   "execution_count": null,
   "outputs": [],
   "source": [
    "print(len(all_perms))"
   ],
   "metadata": {
    "collapsed": false,
    "pycharm": {
     "name": "#%%\n"
    }
   }
  },
  {
   "cell_type": "code",
   "execution_count": null,
   "outputs": [],
   "source": [
    "tumour_stg = ba.SymbolicAsyncGraph(model)\n",
    "attractors = ba.find_attractors(tumour_stg)"
   ],
   "metadata": {
    "collapsed": false,
    "pycharm": {
     "name": "#%%\n"
    }
   }
  },
  {
   "cell_type": "code",
   "execution_count": null,
   "outputs": [],
   "source": [
    "len(attractors)"
   ],
   "metadata": {
    "collapsed": false,
    "pycharm": {
     "name": "#%%\n"
    }
   }
  },
  {
   "cell_type": "code",
   "execution_count": null,
   "outputs": [],
   "source": [
    "apoptosis_ix = model.find_variable('Apoptosis')\n",
    "print(apoptosis_ix)"
   ],
   "metadata": {
    "collapsed": false,
    "pycharm": {
     "name": "#%%\n"
    }
   }
  },
  {
   "cell_type": "code",
   "execution_count": null,
   "outputs": [],
   "source": [
    "print(attractors[0].vertices().list_vertices()[0][2])\n",
    "print(attractors[1].vertices().list_vertices()[0][2])\n",
    "print(attractors[2].vertices().list_vertices()[0][2])"
   ],
   "metadata": {
    "collapsed": false,
    "pycharm": {
     "name": "#%%\n"
    }
   }
  },
  {
   "cell_type": "code",
   "execution_count": null,
   "outputs": [],
   "source": [
    "selected_att = attractors[2]\n",
    "# Make random determinisitic\n",
    "random.seed(RANDOM_SEED)\n",
    "\n",
    "# If there are too many combinations, select just a sample\n",
    "permutations_to_try = all_perms if len(all_perms) <= MAX_COMBINATIONS_NUM else random.sample(all_perms, MAX_COMBINATIONS_NUM)"
   ],
   "metadata": {
    "collapsed": false,
    "pycharm": {
     "name": "#%%\n"
    }
   }
  },
  {
   "cell_type": "code",
   "execution_count": null,
   "outputs": [],
   "source": [
    "print(selected_att.vertices().list_vertices())"
   ],
   "metadata": {
    "collapsed": false,
    "pycharm": {
     "name": "#%%\n"
    }
   }
  },
  {
   "cell_type": "code",
   "execution_count": null,
   "outputs": [],
   "source": [
    "def get_colours_with_attractor(pert_graph, original_attractor):\n",
    "    seed = pert_graph.vertex(original_attractor.vertices().list_vertices()[0])\n",
    "    fwd = ba.reach_fwd(pert_graph.as_perturbed(), seed)\n",
    "    bwd = ba.reach_bwd(pert_graph.as_perturbed(), seed)\n",
    "    scc = fwd.intersect(bwd)\n",
    "    not_attractor_colors = fwd.minus(scc).colors()\n",
    "    attractor = scc.minus_colors(not_attractor_colors)\n",
    "    return attractor.colors()\n",
    "\n",
    "def get_att_colours(vc, orginal_attractor):\n",
    "    print(\"a\")\n",
    "    tmp_model = load_boolean_network(f\"tumour_witness.aeon\")\n",
    "    for v in vc:\n",
    "        # Remove variable's update function; make it unknown\n",
    "        tmp_model.set_update_function(v, None)\n",
    "\n",
    "    pert_graph = ba.PerturbationGraph(tmp_model)\n",
    "    # The total colour of perturbed model's attractor\n",
    "    return get_colours_with_attractor(pert_graph, orginal_attractor).cardinality()\n",
    "\n",
    "def get_permutation_sequence(perm, original_attractor):\n",
    "    return [get_att_colours(perm[:i+1], original_attractor) for i in range(len(perm))]"
   ],
   "metadata": {
    "collapsed": false,
    "pycharm": {
     "name": "#%%\n"
    }
   }
  },
  {
   "cell_type": "code",
   "execution_count": null,
   "outputs": [],
   "source": [],
   "metadata": {
    "collapsed": false,
    "pycharm": {
     "name": "#%%\n"
    }
   }
  },
  {
   "cell_type": "code",
   "execution_count": null,
   "outputs": [],
   "source": [
    "cardinalities = list(tqdm(((ps, get_permutation_sequence(ps, selected_att)) for ps in permutations_to_try), total=len(permutations_to_try)))"
   ],
   "metadata": {
    "collapsed": false,
    "pycharm": {
     "name": "#%%\n"
    }
   }
  },
  {
   "cell_type": "code",
   "execution_count": null,
   "outputs": [],
   "source": [
    "# import os\n",
    "# os.environ[\"PATH\"] += os.pathsep + 'C:\\\\Program Files (x86)\\\\windows_10_msbuild_Release_graphviz-5.0.1-win32\\\\Graphviz\\\\bin'"
   ],
   "metadata": {
    "collapsed": false,
    "pycharm": {
     "name": "#%%\n"
    }
   }
  }
 ],
 "metadata": {
  "kernelspec": {
   "display_name": "Python 3",
   "language": "python",
   "name": "python3"
  },
  "language_info": {
   "codemirror_mode": {
    "name": "ipython",
    "version": 2
   },
   "file_extension": ".py",
   "mimetype": "text/x-python",
   "name": "python",
   "nbconvert_exporter": "python",
   "pygments_lexer": "ipython2",
   "version": "2.7.6"
  }
 },
 "nbformat": 4,
 "nbformat_minor": 0
}
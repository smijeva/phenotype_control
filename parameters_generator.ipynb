{
 "cells": [
  {
   "cell_type": "code",
   "execution_count": 19,
   "outputs": [],
   "source": [
    "from pathlib import Path\n",
    "from itertools import combinations\n",
    "from tqdm import tqdm\n",
    "import os\n",
    "import random\n",
    "import biodivine_aeon as ba\n",
    "import pickle\n",
    "import math\n",
    "\n",
    "\n",
    "MODELS_FOLDER = \".\\\\models\"\n",
    "SELECTED_MODELS_EXP_1_FOLDER = \"\\\\selected_models_exp_1\"\n",
    "CARDINALITIES_DICT_PICKL_FILE = 'cardinalities.pickle'\n",
    "MAX_COMBINATIONS_NUM = 5000\n",
    "file_cache = {}\n",
    "RANDOM_SEED = 10\n",
    "aeon_files = [f for f in os.listdir(MODELS_FOLDER)]\n",
    "\n",
    "\n",
    "def load_boolean_network(file):\n",
    "    if file not in file_cache.keys():\n",
    "        file_cache[file] = Path(os.path.join(MODELS_FOLDER, file)).read_text()\n",
    "    return ba.BooleanNetwork.from_aeon(file_cache[file])\n",
    "\n",
    "\n",
    "def get_model_colours(file, variable_combination):\n",
    "    tmp_model = load_boolean_network(file)\n",
    "    for v in variable_combination:\n",
    "        # Remove variable's update function; make it unknown\n",
    "        tmp_model.set_update_function(v, None)\n",
    "\n",
    "    graph = ba.PerturbationGraph(tmp_model)\n",
    "    # The total colour of perturbed model\n",
    "    full_colours = graph.as_original().unit_colors().cardinality()\n",
    "    # 2^#vars colours come from artificial perturbation parameters (is_var_pertubred)\n",
    "    colours_from_variables = 2 ** len(graph.as_original().network().variables())\n",
    "    # The remaining colours come from model's own uncertainty\n",
    "    colours_from_params = full_colours / colours_from_variables\n",
    "    return colours_from_params"
   ],
   "metadata": {
    "collapsed": false,
    "pycharm": {
     "name": "#%%\n"
    }
   }
  },
  {
   "cell_type": "code",
   "execution_count": null,
   "outputs": [],
   "source": [
    "cardinalities_dict = {RANDOM_SEED}\n",
    "\n",
    "for f in aeon_files:\n",
    "    print(f)\n",
    "    model = load_boolean_network(f)\n",
    "    vars = model.variables()\n",
    "    rg = model.graph()\n",
    "\n",
    "    # Variables with 0 arity have low effect, variables over 4 could explode colours too much\n",
    "    relevant_vars = [model.get_variable_name(v) for v in vars if 0 < len(rg.regulators(v)) <= 4]\n",
    "\n",
    "    # Generate possible combinations of relevant variables\n",
    "    all_combinations = [x for x in combinations(relevant_vars, 4)]\n",
    "\n",
    "    # Make random determinisitic\n",
    "    random.seed()\n",
    "\n",
    "    # If there are too many combinations, select just a sample\n",
    "    combinations_to_try = all_combinations if len(all_combinations) <= MAX_COMBINATIONS_NUM else random.sample(all_combinations, MAX_COMBINATIONS_NUM)\n",
    "\n",
    "    # For every model, remember a list of colours cardinalities along with the variable combinations which cause them\n",
    "    cardinalities_dict[f] = list(tqdm((vc, get_model_colours(f, vc) for vc in combinations_to_try), total=len(combinations_to_try)))"
   ],
   "metadata": {
    "collapsed": false,
    "pycharm": {
     "name": "#%%\n"
    }
   }
  },
  {
   "cell_type": "code",
   "execution_count": 2,
   "outputs": [],
   "source": [
    "# Preserve results of long-running computation\n",
    "\n",
    "with open(CARDINALITIES_DICT_PICKL_FILE, 'wb') as handle:\n",
    "    pickle.dump(cardinalities_dict, handle)"
   ],
   "metadata": {
    "collapsed": false,
    "pycharm": {
     "name": "#%%\n"
    }
   }
  },
  {
   "cell_type": "code",
   "execution_count": 7,
   "outputs": [],
   "source": [
    "# Load results of long-running computation\n",
    "\n",
    "with open(CARDINALITIES_DICT_PICKL_FILE, 'rb') as handle:\n",
    "    cardinalities_dict = pickle.load(handle)"
   ],
   "metadata": {
    "collapsed": false,
    "pycharm": {
     "name": "#%%\n"
    }
   }
  },
  {
   "cell_type": "code",
   "execution_count": 8,
   "outputs": [
    {
     "name": "stdout",
     "output_type": "stream",
     "text": [
      "[21772800.0, 87091200.0, 406425600.0, 406425600.0, 87091200.0, 406425600.0, 87091200.0, 87091200.0, 1959552.0, 9144576.0, 9144576.0, 1959552.0, 9144576.0, 1959552.0, 1959552.0, 36578304.0, 36578304.0, 7838208.0, 36578304.0, 7838208.0, 7838208.0, 170698752.0, 36578304.0, 170698752.0, 36578304.0, 36578304.0, 36578304.0, 170698752.0, 36578304.0, 36578304.0, 36578304.0, 7838208.0, 7838208.0, 36578304.0, 36578304.0, 7838208.0, 21772800.0, 101606400.0, 101606400.0, 21772800.0, 101606400.0, 21772800.0, 21772800.0, 406425600.0, 406425600.0, 87091200.0, 406425600.0, 87091200.0, 87091200.0, 1896652800.0, 406425600.0, 1896652800.0, 406425600.0, 406425600.0, 406425600.0, 1896652800.0, 406425600.0, 406425600.0, 406425600.0, 87091200.0, 87091200.0, 406425600.0, 406425600.0, 87091200.0, 9144576.0, 9144576.0, 1959552.0, 9144576.0, 1959552.0, 1959552.0, 42674688.0, 9144576.0, 42674688.0, 9144576.0, 9144576.0, 9144576.0, 42674688.0, 9144576.0, 9144576.0, 9144576.0, 1959552.0, 1959552.0, 9144576.0, 9144576.0, 1959552.0, 170698752.0, 36578304.0, 170698752.0, 36578304.0, 36578304.0, 36578304.0, 170698752.0, 36578304.0, 36578304.0, 36578304.0, 7838208.0, 7838208.0, 36578304.0, 36578304.0, 7838208.0, 170698752.0, 796594176.0, 170698752.0, 170698752.0, 170698752.0, 36578304.0, 36578304.0, 170698752.0, 170698752.0, 36578304.0, 170698752.0, 36578304.0, 36578304.0, 170698752.0, 170698752.0, 36578304.0, 36578304.0, 36578304.0, 7838208.0, 36578304.0, 4665600.0, 21772800.0, 21772800.0, 4665600.0, 21772800.0, 4665600.0, 4665600.0, 87091200.0, 87091200.0, 18662400.0, 87091200.0, 18662400.0, 18662400.0, 406425600.0, 87091200.0, 406425600.0, 87091200.0, 87091200.0, 87091200.0, 406425600.0, 87091200.0, 87091200.0, 87091200.0, 18662400.0, 18662400.0, 87091200.0, 87091200.0, 18662400.0, 1959552.0, 1959552.0, 419904.0, 1959552.0, 419904.0, 419904.0, 9144576.0, 1959552.0, 9144576.0, 1959552.0, 1959552.0, 1959552.0, 9144576.0, 1959552.0, 1959552.0, 1959552.0, 419904.0, 419904.0, 1959552.0, 1959552.0, 419904.0, 36578304.0, 7838208.0, 36578304.0, 7838208.0, 7838208.0, 7838208.0, 36578304.0, 7838208.0, 7838208.0, 7838208.0, 1679616.0, 1679616.0, 7838208.0, 7838208.0, 1679616.0, 36578304.0, 170698752.0, 36578304.0, 36578304.0, 36578304.0, 7838208.0, 7838208.0, 36578304.0, 36578304.0, 7838208.0, 36578304.0, 7838208.0, 7838208.0, 36578304.0, 36578304.0, 7838208.0, 7838208.0, 7838208.0, 1679616.0, 7838208.0, 21772800.0, 21772800.0, 4665600.0, 21772800.0, 4665600.0, 4665600.0, 101606400.0, 21772800.0, 101606400.0, 21772800.0, 21772800.0, 21772800.0, 101606400.0, 21772800.0, 21772800.0, 21772800.0, 4665600.0, 4665600.0, 21772800.0, 21772800.0, 4665600.0, 406425600.0, 87091200.0, 406425600.0, 87091200.0, 87091200.0, 87091200.0, 406425600.0, 87091200.0, 87091200.0, 87091200.0, 18662400.0, 18662400.0, 87091200.0, 87091200.0, 18662400.0, 406425600.0, 1896652800.0, 406425600.0, 406425600.0, 406425600.0, 87091200.0, 87091200.0, 406425600.0, 406425600.0, 87091200.0, 406425600.0, 87091200.0, 87091200.0, 406425600.0, 406425600.0, 87091200.0, 87091200.0, 87091200.0, 18662400.0, 87091200.0, 9144576.0, 1959552.0, 9144576.0, 1959552.0, 1959552.0, 1959552.0, 9144576.0, 1959552.0, 1959552.0, 1959552.0, 419904.0, 419904.0, 1959552.0, 1959552.0, 419904.0, 9144576.0, 42674688.0, 9144576.0, 9144576.0, 9144576.0, 1959552.0, 1959552.0, 9144576.0, 9144576.0, 1959552.0, 9144576.0, 1959552.0, 1959552.0, 9144576.0, 9144576.0, 1959552.0, 1959552.0, 1959552.0, 419904.0, 1959552.0, 36578304.0, 170698752.0, 36578304.0, 36578304.0, 36578304.0, 7838208.0, 7838208.0, 36578304.0, 36578304.0, 7838208.0, 36578304.0, 7838208.0, 7838208.0, 36578304.0, 36578304.0, 7838208.0, 7838208.0, 7838208.0, 1679616.0, 7838208.0, 170698752.0, 36578304.0, 36578304.0, 170698752.0, 170698752.0, 36578304.0, 36578304.0, 36578304.0, 7838208.0, 36578304.0, 36578304.0, 36578304.0, 7838208.0, 36578304.0, 7838208.0]\n"
     ]
    }
   ],
   "source": [
    "print([y for _x,y in cardinalities_dict['myeloid_witness.aeon']])"
   ],
   "metadata": {
    "collapsed": false,
    "pycharm": {
     "name": "#%%\n"
    }
   }
  },
  {
   "cell_type": "code",
   "execution_count": 17,
   "outputs": [
    {
     "name": "stdout",
     "output_type": "stream",
     "text": [
      "{4665600.0, 18662400.0, 419904.0}\n"
     ]
    }
   ],
   "source": [
    "sets = []\n",
    "for _key, value in cardinalities_dict.items():\n",
    "    sets.append(set([y for _x,y in value]))\n",
    "\n",
    "available_colours_cardinality = set.intersection(*sets)\n",
    "print(available_colours_cardinality)"
   ],
   "metadata": {
    "collapsed": false,
    "pycharm": {
     "name": "#%%\n"
    }
   }
  },
  {
   "cell_type": "code",
   "execution_count": 14,
   "outputs": [
    {
     "name": "stdout",
     "output_type": "stream",
     "text": [
      "Colours from params 4665600.0 (2^22.153631194101663)\n",
      "cardiac_witness.aeon 36\n",
      "erbb_witness.aeon 250\n",
      "mapk_witness.aeon 361\n",
      "myeloid_witness.aeon 10\n",
      "tumour_witness.aeon 24\n",
      "Colours from params 18662400.0 (2^24.153631194101663)\n",
      "cardiac_witness.aeon 3\n",
      "erbb_witness.aeon 50\n",
      "mapk_witness.aeon 60\n",
      "myeloid_witness.aeon 10\n",
      "tumour_witness.aeon 4\n",
      "Colours from params 419904.0 (2^18.67970000576925)\n",
      "cardiac_witness.aeon 4\n",
      "erbb_witness.aeon 50\n",
      "mapk_witness.aeon 129\n",
      "myeloid_witness.aeon 10\n",
      "tumour_witness.aeon 2\n"
     ]
    }
   ],
   "source": [
    "for v in available_colours_cardinality:\n",
    "    print(f'Colours from params {v:.1f} (2^{math.log2(v)})')\n",
    "    for m in aeon_files:\n",
    "        satisfactory_var_combinations = [vc for vc, cols in cardinalities_dict[m] if cols == v]\n",
    "        print(m, len(satisfactory_var_combinations))"
   ],
   "metadata": {
    "collapsed": false,
    "pycharm": {
     "name": "#%%\n"
    }
   }
  },
  {
   "cell_type": "code",
   "execution_count": 15,
   "outputs": [
    {
     "name": "stdout",
     "output_type": "stream",
     "text": [
      "['cardiac_witness.aeon', 'erbb_witness.aeon', 'mapk_witness.aeon', 'myeloid_witness.aeon', 'tumour_witness.aeon']\n"
     ]
    }
   ],
   "source": [
    "print(aeon_files)"
   ],
   "metadata": {
    "collapsed": false,
    "pycharm": {
     "name": "#%%\n"
    }
   }
  },
  {
   "cell_type": "code",
   "execution_count": 23,
   "outputs": [],
   "source": [
    "selected_colours_cardinality = min(available_colours_cardinality)\n",
    "\n",
    "for m in aeon_files:\n",
    "    satisfactory_var_combination = [vc for vc, cols in cardinalities_dict[m] if cols == selected_colours_cardinality].pop()\n",
    "    # Generate BN again (we saved just the unknown var combinations)\n",
    "    model = load_boolean_network(m)\n",
    "    for v in satisfactory_var_combination:\n",
    "        # Remove variable's update function; make it unknown\n",
    "        model.set_update_function(v, None)\n",
    "    with open(f\".\\\\{SELECTED_MODELS_EXP_1_FOLDER}\\\\{m.split('_')[0]}_4unknown.aeon\", \"wb\") as handle:\n",
    "        handle.write(model.to_aeon().encode())"
   ],
   "metadata": {
    "collapsed": false,
    "pycharm": {
     "name": "#%%\n"
    }
   }
  },
  {
   "cell_type": "code",
   "execution_count": 24,
   "outputs": [
    {
     "data": {
      "text/plain": "['cardiac_witness.aeon',\n 'erbb_witness.aeon',\n 'mapk_witness.aeon',\n 'myeloid_witness.aeon',\n 'tumour_witness.aeon']"
     },
     "execution_count": 24,
     "metadata": {},
     "output_type": "execute_result"
    }
   ],
   "source": [
    "aeon_files"
   ],
   "metadata": {
    "collapsed": false,
    "pycharm": {
     "name": "#%%\n"
    }
   }
  },
  {
   "cell_type": "code",
   "execution_count": null,
   "outputs": [],
   "source": [],
   "metadata": {
    "collapsed": false,
    "pycharm": {
     "name": "#%%\n"
    }
   }
  }
 ],
 "metadata": {
  "kernelspec": {
   "display_name": "Python 3",
   "language": "python",
   "name": "python3"
  },
  "language_info": {
   "codemirror_mode": {
    "name": "ipython",
    "version": 2
   },
   "file_extension": ".py",
   "mimetype": "text/x-python",
   "name": "python",
   "nbconvert_exporter": "python",
   "pygments_lexer": "ipython2",
   "version": "2.7.6"
  }
 },
 "nbformat": 4,
 "nbformat_minor": 0
}
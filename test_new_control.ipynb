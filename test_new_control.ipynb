{
 "cells": [
  {
   "cell_type": "code",
   "execution_count": 1,
   "outputs": [],
   "source": [
    "import biodivine_aeon as ba\n",
    "from pathlib import Path\n",
    "import os\n",
    "from control import permanent_control\n",
    "from perturbed_graph import PerturbedGraph\n",
    "import time\n",
    "\n",
    "os.environ[\"PATH\"] += os.pathsep + 'C:\\\\Program Files (x86)\\\\windows_10_msbuild_Release_graphviz-5.0.1-win32\\\\Graphviz\\\\bin'"
   ],
   "metadata": {
    "collapsed": false,
    "pycharm": {
     "name": "#%%\n"
    }
   }
  },
  {
   "cell_type": "code",
   "execution_count": null,
   "outputs": [
    {
     "name": "stdout",
     "output_type": "stream",
     "text": [
      "Old permanent control myeloid: 0.0\n",
      "New permanent control myeloid: 0.20828843116760254\n",
      "Old permanent control cardiac: 0.042571306228637695\n",
      "New permanent control cardiac: 0.40456128120422363\n",
      "Old permanent control erbb: 0.04712820053100586\n",
      "New permanent control erbb: 1.4640965461730957\n"
     ]
    }
   ],
   "source": [
    "for m in ['myeloid', 'cardiac', 'erbb', 'tumour']:\n",
    "    bn = ba.BooleanNetwork.from_aeon(Path(f'.\\models\\{m}_witness.aeon').read_text())\n",
    "    vars = bn.variables()\n",
    "    rg = bn.graph()\n",
    "\n",
    "    stg = ba.SymbolicAsyncGraph(bn)\n",
    "    attractors = ba.find_attractors(stg)\n",
    "\n",
    "    start = time.time()\n",
    "    ba.PerturbationGraph(bn).permanent_control(attractors[0].vertices().list_vertices()[0], attractors[1].vertices().list_vertices()[0])\n",
    "    end = time.time()\n",
    "    print(f'Old permanent control {m}: {end - start}')\n",
    "\n",
    "    phenotype_attractor = {}\n",
    "    vertices = attractors[1].vertices().list_vertices()[0]\n",
    "    for ix, v in enumerate(bn.variables()):\n",
    "        var_name = bn.get_variable_name(v)\n",
    "        var_val = vertices[ix]\n",
    "        phenotype_attractor[var_name] = var_val\n",
    "\n",
    "    start = time.time()\n",
    "    pg = PerturbedGraph(bn)\n",
    "    permanent_control(pg, phenotype_attractor)\n",
    "    end = time.time()\n",
    "    print(f'New permanent control {m}: {end - start}')"
   ],
   "metadata": {
    "collapsed": false,
    "pycharm": {
     "name": "#%%\n"
    }
   }
  },
  {
   "cell_type": "code",
   "execution_count": 2,
   "outputs": [
    {
     "name": "stdout",
     "output_type": "stream",
     "text": [
      "Old permanent control tumour: 10.472687482833862\n"
     ]
    }
   ],
   "source": [
    "for m in ['tumour']:\n",
    "    bn = ba.BooleanNetwork.from_aeon(Path(f'.\\models\\{m}_witness.aeon').read_text())\n",
    "    vars = bn.variables()\n",
    "    rg = bn.graph()\n",
    "\n",
    "    stg = ba.SymbolicAsyncGraph(bn)\n",
    "    attractors = ba.find_attractors(stg)\n",
    "\n",
    "    start = time.time()\n",
    "    ba.PerturbationGraph(bn).permanent_control(attractors[0].vertices().list_vertices()[0], attractors[1].vertices().list_vertices()[0])\n",
    "    end = time.time()\n",
    "    print(f'Old permanent control {m}: {end - start}')\n",
    "\n",
    "    phenotype_attractor = {}\n",
    "    vertices = attractors[1].vertices().list_vertices()[0]\n",
    "    for ix, v in enumerate(bn.variables()):\n",
    "        var_name = bn.get_variable_name(v)\n",
    "        var_val = vertices[ix]\n",
    "        phenotype_attractor[var_name] = var_val\n",
    "\n",
    "    start = time.time()\n",
    "    pg = PerturbedGraph(bn)\n",
    "    permanent_control(pg, phenotype_attractor)\n",
    "    end = time.time()\n",
    "    print(f'New permanent control {m}: {end - start}')"
   ],
   "metadata": {
    "collapsed": false,
    "pycharm": {
     "name": "#%%\n"
    }
   }
  },
  {
   "cell_type": "code",
   "execution_count": null,
   "outputs": [],
   "source": [
    "for m in ['tumour']:\n",
    "    bn = ba.BooleanNetwork.from_aeon(Path(f'.\\models\\{m}_witness.aeon').read_text())\n",
    "    vars = bn.variables()\n",
    "    rg = bn.graph()\n",
    "\n",
    "    stg = ba.SymbolicAsyncGraph(bn)\n",
    "    attractors = ba.find_attractors(stg)\n",
    "    phenotype_attractor = {}\n",
    "    vertices = attractors[1].vertices().list_vertices()[0]\n",
    "    for ix, v in enumerate(bn.variables()):\n",
    "        var_name = bn.get_variable_name(v)\n",
    "        var_val = vertices[ix]\n",
    "        phenotype_attractor[var_name] = var_val\n",
    "\n",
    "    start = time.time()\n",
    "    pg = PerturbedGraph(bn)\n",
    "    permanent_control(pg, phenotype_attractor)\n",
    "    end = time.time()\n",
    "    print(f'New permanent control {m}: {end - start}')"
   ],
   "metadata": {
    "collapsed": false,
    "pycharm": {
     "name": "#%%\n",
     "is_executing": true
    }
   }
  },
  {
   "cell_type": "code",
   "execution_count": null,
   "outputs": [],
   "source": [],
   "metadata": {
    "collapsed": false,
    "pycharm": {
     "name": "#%%\n"
    }
   }
  },
  {
   "cell_type": "code",
   "execution_count": null,
   "outputs": [],
   "source": [],
   "metadata": {
    "collapsed": false,
    "pycharm": {
     "name": "#%%\n"
    }
   }
  }
 ],
 "metadata": {
  "kernelspec": {
   "display_name": "Python 3",
   "language": "python",
   "name": "python3"
  },
  "language_info": {
   "codemirror_mode": {
    "name": "ipython",
    "version": 2
   },
   "file_extension": ".py",
   "mimetype": "text/x-python",
   "name": "python",
   "nbconvert_exporter": "python",
   "pygments_lexer": "ipython2",
   "version": "2.7.6"
  }
 },
 "nbformat": 4,
 "nbformat_minor": 0
}
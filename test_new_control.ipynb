{
 "cells": [
  {
   "cell_type": "code",
   "execution_count": null,
   "outputs": [],
   "source": [
    "import biodivine_aeon as ba\n",
    "from pathlib import Path\n",
    "import os\n",
    "from control import permanent_control\n",
    "from perturbed_graph import PerturbedGraph\n",
    "import time\n",
    "\n",
    "os.environ[\"PATH\"] += os.pathsep + 'C:\\\\Program Files (x86)\\\\windows_10_msbuild_Release_graphviz-5.0.1-win32\\\\Graphviz\\\\bin'"
   ],
   "metadata": {
    "collapsed": false,
    "pycharm": {
     "name": "#%%\n"
    }
   }
  },
  {
   "cell_type": "code",
   "execution_count": null,
   "outputs": [],
   "source": [
    "print(os.listdir('.\\\\models\\\\20ish_variables'))"
   ],
   "metadata": {
    "collapsed": false,
    "pycharm": {
     "name": "#%%\n"
    }
   }
  },
  {
   "cell_type": "code",
   "execution_count": null,
   "outputs": [],
   "source": [
    "models = ['SKBR3-BREAST-CELL-LINE-LONG-TERM_21.aeon', 'REPROGRAMMING-TESTES-DERIVED-STEM-CELLS_23.aeon', 'SEPTATION-INITIATION-NETWORK_23.aeon', 'TUMOR-MICROENVIRONMENT-IN-LYMPHOBLASTIC-LEUKEAMIA-24.aeon', 'TRICHOSTRONGYLUS-RETORTAEFORMIS_25.aeon', 'DEATH-RECEPTOR-SIGNALING_25.aeon', 'FA-BRCA-PATHWAY_28.aeon',]"
   ],
   "metadata": {
    "collapsed": false,
    "pycharm": {
     "name": "#%%\n"
    }
   }
  },
  {
   "cell_type": "code",
   "execution_count": null,
   "outputs": [],
   "source": [
    "# for m in ['myeloid', 'cardiac', 'erbb', 'tumour']:\n",
    "for m in models:\n",
    "# for m in ['myeloid']:\n",
    "    print(m)\n",
    "    bn = ba.BooleanNetwork.from_aeon(Path(f'.\\\\models\\\\20ish_variables\\\\{m}').read_text())\n",
    "    vars = bn.variables()\n",
    "    rg = bn.graph()\n",
    "\n",
    "    # stg = ba.SymbolicAsyncGraph(bn)\n",
    "    # attractors = ba.find_attractors(stg)\n",
    "    #\n",
    "    # start = time.time()\n",
    "    # ba.PerturbationGraph(bn).permanent_control(attractors[0].vertices().list_vertices()[0], attractors[1].vertices().list_vertices()[0])\n",
    "    # end = time.time()\n",
    "    # print(f'Old permanent control {m}: {end - start}')\n",
    "    #\n",
    "    # phenotype_attractor = {}\n",
    "    # vertices = attractors[1].vertices().list_vertices()[0]\n",
    "    # for ix, v in enumerate(bn.variables()):\n",
    "    #     var_name = bn.get_variable_name(v)\n",
    "    #     var_val = vertices[ix]\n",
    "    #     phenotype_attractor[var_name] = var_val\n",
    "    #\n",
    "    # start = time.time()\n",
    "    pg = PerturbedGraph(bn)\n",
    "    # permanent_control(pg, phenotype_attractor)\n",
    "    # end = time.time()\n",
    "    # print(f'New permanent control {m}: {end - start}')\n",
    "    Path(f'.\\\\models_exported\\\\{m[0:-(len(\".aeon\"))]}_witness_perturbed.aeon').write_text(pg.perturbed_bn.to_aeon())\n"
   ],
   "metadata": {
    "collapsed": false,
    "pycharm": {
     "name": "#%%\n"
    }
   }
  },
  {
   "cell_type": "code",
   "execution_count": null,
   "outputs": [],
   "source": [
    "# for m in ['myeloid', 'cardiac', 'erbb', 'tumour']:\n",
    "for m in ['myeloid', 'cardiac', 'erbb', 'tumour', 'mapk']:\n",
    "# for m in ['myeloid']:\n",
    "    bn = ba.BooleanNetwork.from_aeon(Path(f'.\\models\\{m}_witness.aeon').read_text())\n",
    "    vars = bn.variables()\n",
    "    rg = bn.graph()\n",
    "\n",
    "    # stg = ba.SymbolicAsyncGraph(bn)\n",
    "    # attractors = ba.find_attractors(stg)\n",
    "    #\n",
    "    # start = time.time()\n",
    "    # ba.PerturbationGraph(bn).permanent_control(attractors[0].vertices().list_vertices()[0], attractors[1].vertices().list_vertices()[0])\n",
    "    # end = time.time()\n",
    "    # print(f'Old permanent control {m}: {end - start}')\n",
    "    #\n",
    "    # phenotype_attractor = {}\n",
    "    # vertices = attractors[1].vertices().list_vertices()[0]\n",
    "    # for ix, v in enumerate(bn.variables()):\n",
    "    #     var_name = bn.get_variable_name(v)\n",
    "    #     var_val = vertices[ix]\n",
    "    #     phenotype_attractor[var_name] = var_val\n",
    "    #\n",
    "    # start = time.time()\n",
    "    pg = PerturbedGraph(bn)\n",
    "    # permanent_control(pg, phenotype_attractor)\n",
    "    # end = time.time()\n",
    "    # print(f'New permanent control {m}: {end - start}')\n",
    "    Path(f'.\\models_exported\\{m}_witness_perturbed.aeon').write_text(pg.perturbed_bn.to_aeon())\n"
   ],
   "metadata": {
    "collapsed": false,
    "pycharm": {
     "name": "#%%\n"
    }
   }
  },
  {
   "cell_type": "code",
   "execution_count": null,
   "outputs": [],
   "source": [
    "# id = pg.perturbed_bn.find_variable(\"CEBPa\")\n",
    "# print(pg.perturbed_bn.get_update_function(pg.perturbed_bn.variables()[4]))\n",
    "print(pg.perturbed_bn.to_aeon())"
   ],
   "metadata": {
    "collapsed": false,
    "pycharm": {
     "name": "#%%\n"
    }
   }
  },
  {
   "cell_type": "code",
   "execution_count": null,
   "outputs": [],
   "source": [
    "print()"
   ],
   "metadata": {
    "collapsed": false,
    "pycharm": {
     "name": "#%%\n"
    }
   }
  },
  {
   "cell_type": "code",
   "execution_count": null,
   "outputs": [],
   "source": [
    "for m in ['tumour']:\n",
    "    bn = ba.BooleanNetwork.from_aeon(Path(f'.\\models\\{m}_witness.aeon').read_text())\n",
    "    vars = bn.variables()\n",
    "    rg = bn.graph()\n",
    "\n",
    "    stg = ba.SymbolicAsyncGraph(bn)\n",
    "    attractors = ba.find_attractors(stg)\n",
    "\n",
    "    start = time.time()\n",
    "    ba.PerturbationGraph(bn).permanent_control(attractors[0].vertices().list_vertices()[0], attractors[1].vertices().list_vertices()[0])\n",
    "    end = time.time()\n",
    "    print(f'Old permanent control {m}: {end - start}')\n",
    "\n",
    "    phenotype_attractor = {}\n",
    "    vertices = attractors[1].vertices().list_vertices()[0]\n",
    "    for ix, v in enumerate(bn.variables()):\n",
    "        var_name = bn.get_variable_name(v)\n",
    "        var_val = vertices[ix]\n",
    "        phenotype_attractor[var_name] = var_val\n",
    "\n",
    "    start = time.time()\n",
    "    pg = PerturbedGraph(bn)\n",
    "    permanent_control(pg, phenotype_attractor)\n",
    "    end = time.time()\n",
    "    print(f'New permanent control {m}: {end - start}')"
   ],
   "metadata": {
    "collapsed": false,
    "pycharm": {
     "name": "#%%\n"
    }
   }
  },
  {
   "cell_type": "code",
   "execution_count": null,
   "outputs": [],
   "source": [
    "for m in ['tumour']:\n",
    "    bn = ba.BooleanNetwork.from_aeon(Path(f'.\\models\\{m}_witness.aeon').read_text())\n",
    "    vars = bn.variables()\n",
    "    rg = bn.graph()\n",
    "\n",
    "    stg = ba.SymbolicAsyncGraph(bn)\n",
    "    attractors = ba.find_attractors(stg)\n",
    "    phenotype_attractor = {}\n",
    "    vertices = attractors[1].vertices().list_vertices()[0]\n",
    "    for ix, v in enumerate(bn.variables()):\n",
    "        var_name = bn.get_variable_name(v)\n",
    "        var_val = vertices[ix]\n",
    "        phenotype_attractor[var_name] = var_val\n",
    "\n",
    "    start = time.time()\n",
    "    pg = PerturbedGraph(bn)\n",
    "    permanent_control(pg, phenotype_attractor)\n",
    "    end = time.time()\n",
    "    print(f'New permanent control {m}: {end - start}')"
   ],
   "metadata": {
    "collapsed": false,
    "pycharm": {
     "name": "#%%\n"
    }
   }
  },
  {
   "cell_type": "code",
   "execution_count": 7,
   "outputs": [
    {
     "name": "stdout",
     "output_type": "stream",
     "text": [
      "[VariableId(0), VariableId(1), VariableId(2), VariableId(3), VariableId(4), VariableId(5), VariableId(6), VariableId(7), VariableId(8), VariableId(9), VariableId(10), VariableId(11), VariableId(12), VariableId(13), VariableId(14), VariableId(15), VariableId(16), VariableId(17), VariableId(18), VariableId(19), VariableId(20), VariableId(21), VariableId(22), VariableId(23), VariableId(24), VariableId(25), VariableId(26), VariableId(27), VariableId(28), VariableId(29), VariableId(30), VariableId(31)]\n"
     ]
    }
   ],
   "source": [
    "print()"
   ],
   "metadata": {
    "collapsed": false,
    "pycharm": {
     "name": "#%%\n"
    }
   }
  },
  {
   "cell_type": "code",
   "execution_count": 2,
   "outputs": [
    {
     "name": "stdout",
     "output_type": "stream",
     "text": [
      "Old permanent control tumour: 10.472687482833862\n"
     ]
    }
   ],
   "source": [
    "for m in ['tumour']:\n",
    "    bn = ba.BooleanNetwork.from_aeon(Path(f'.\\models\\{m}_witness.aeon').read_text())\n",
    "    vars = bn.variables()\n",
    "    rg = bn.graph()\n",
    "\n",
    "    stg = ba.SymbolicAsyncGraph(bn)\n",
    "    attractors = ba.find_attractors(stg)\n",
    "\n",
    "    start = time.time()\n",
    "    ba.PerturbationGraph(bn).permanent_control(attractors[0].vertices().list_vertices()[0], attractors[1].vertices().list_vertices()[0])\n",
    "    end = time.time()\n",
    "    print(f'Old permanent control {m}: {end - start}')\n",
    "\n",
    "    phenotype_attractor = {}\n",
    "    vertices = attractors[1].vertices().list_vertices()[0]\n",
    "    for ix, v in enumerate(bn.variables()):\n",
    "        var_name = bn.get_variable_name(v)\n",
    "        var_val = vertices[ix]\n",
    "        phenotype_attractor[var_name] = var_val\n",
    "\n",
    "    start = time.time()\n",
    "    pg = PerturbedGraph(bn)\n",
    "    permanent_control(pg, phenotype_attractor)\n",
    "    end = time.time()\n",
    "    print(f'New permanent control {m}: {end - start}')"
   ],
   "metadata": {
    "collapsed": false,
    "pycharm": {
     "name": "#%%\n"
    }
   }
  },
  {
   "cell_type": "code",
   "execution_count": null,
   "outputs": [],
   "source": [
    "for m in ['tumour']:\n",
    "    bn = ba.BooleanNetwork.from_aeon(Path(f'.\\models\\{m}_witness.aeon').read_text())\n",
    "    vars = bn.variables()\n",
    "    rg = bn.graph()\n",
    "\n",
    "    stg = ba.SymbolicAsyncGraph(bn)\n",
    "    attractors = ba.find_attractors(stg)\n",
    "    phenotype_attractor = {}\n",
    "    vertices = attractors[1].vertices().list_vertices()[0]\n",
    "    for ix, v in enumerate(bn.variables()):\n",
    "        var_name = bn.get_variable_name(v)\n",
    "        var_val = vertices[ix]\n",
    "        phenotype_attractor[var_name] = var_val\n",
    "\n",
    "    start = time.time()\n",
    "    pg = PerturbedGraph(bn)\n",
    "    permanent_control(pg, phenotype_attractor)\n",
    "    end = time.time()\n",
    "    print(f'New permanent control {m}: {end - start}')"
   ],
   "metadata": {
    "collapsed": false,
    "pycharm": {
     "name": "#%%\n"
    }
   }
  },
  {
   "cell_type": "code",
   "execution_count": null,
   "outputs": [],
   "source": [],
   "metadata": {
    "collapsed": false,
    "pycharm": {
     "name": "#%%\n"
    }
   }
  },
  {
   "cell_type": "code",
   "execution_count": null,
   "outputs": [],
   "source": [],
   "metadata": {
    "collapsed": false,
    "pycharm": {
     "name": "#%%\n"
    }
   }
  }
 ],
 "metadata": {
  "kernelspec": {
   "display_name": "Python 3",
   "language": "python",
   "name": "python3"
  },
  "language_info": {
   "codemirror_mode": {
    "name": "ipython",
    "version": 2
   },
   "file_extension": ".py",
   "mimetype": "text/x-python",
   "name": "python",
   "nbconvert_exporter": "python",
   "pygments_lexer": "ipython2",
   "version": "2.7.6"
  }
 },
 "nbformat": 4,
 "nbformat_minor": 0
}
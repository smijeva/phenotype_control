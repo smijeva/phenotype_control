{
 "cells": [
  {
   "cell_type": "code",
   "execution_count": 10,
   "outputs": [],
   "source": [
    "import os\n",
    "\n",
    "os.environ[\"PATH\"] += os.pathsep + 'C:\\\\Program Files (x86)\\\\windows_10_msbuild_Release_graphviz-5.0.1-win32\\\\Graphviz\\\\bin'"
   ],
   "metadata": {
    "collapsed": false,
    "pycharm": {
     "name": "#%%\n"
    }
   }
  },
  {
   "cell_type": "code",
   "execution_count": 1,
   "outputs": [],
   "source": [
    "import biodivine_aeon as ba"
   ],
   "metadata": {
    "collapsed": false,
    "pycharm": {
     "name": "#%%\n"
    }
   }
  },
  {
   "cell_type": "code",
   "execution_count": 2,
   "outputs": [],
   "source": [
    "with open('tlgl.aeon') as handle:\n",
    "    content = handle.read()\n",
    "bn = ba.BooleanNetwork.from_aeon(content)"
   ],
   "metadata": {
    "collapsed": false,
    "pycharm": {
     "name": "#%%\n"
    }
   }
  },
  {
   "cell_type": "code",
   "execution_count": 3,
   "outputs": [],
   "source": [
    "vars = bn.variables()\n",
    "rg = bn.graph()\n",
    "sag = ba.SymbolicAsyncGraph(bn)"
   ],
   "metadata": {
    "collapsed": false,
    "pycharm": {
     "name": "#%%\n"
    }
   }
  },
  {
   "cell_type": "code",
   "execution_count": 4,
   "outputs": [
    {
     "data": {
      "text/plain": "64.0"
     },
     "execution_count": 4,
     "metadata": {},
     "output_type": "execute_result"
    }
   ],
   "source": [
    "sag.unit_colors().cardinality()"
   ],
   "metadata": {
    "collapsed": false,
    "pycharm": {
     "name": "#%%\n"
    }
   }
  },
  {
   "cell_type": "code",
   "execution_count": 5,
   "outputs": [],
   "source": [
    "inputs = [\"DELTA\",\"ECM\",\"EGF\",\"FAT4_L\",\"HGF\",\"IL6\",\"ROS\",\"RPTP_L\",\"TGFB\",\"WNT\"]"
   ],
   "metadata": {
    "collapsed": false,
    "pycharm": {
     "name": "#%%\n"
    }
   }
  },
  {
   "cell_type": "code",
   "execution_count": 6,
   "outputs": [
    {
     "name": "stdout",
     "output_type": "stream",
     "text": [
      "ColoredVertexSet(cardinality = 82, unique vertices = 82, unique colors = 64)\n",
      "0:00:00.055600\n"
     ]
    }
   ],
   "source": [
    "from datetime import datetime\n",
    "\n",
    "rg = bn.graph()\n",
    "sag = ba.SymbolicAsyncGraph(bn)\n",
    "sag.unit_colors().cardinality()\n",
    "start = datetime.now()\n",
    "ss = ba.FixedPoints.symbolic(sag, sag.unit_colored_vertices())\n",
    "print(ss)\n",
    "print(datetime.now()-start)"
   ],
   "metadata": {
    "collapsed": false,
    "pycharm": {
     "name": "#%%\n"
    }
   }
  },
  {
   "cell_type": "code",
   "execution_count": 7,
   "outputs": [
    {
     "name": "stdout",
     "output_type": "stream",
     "text": [
      "perturbed set, setting unperturbed\n",
      "unperturbed set, constructor done\n",
      "Starting space restricting 2023-03-07 19:15:34.828658\n",
      "Ending space restricting 2023-03-07 19:15:34.828756\n",
      "permanent control 0:00:00.000543\n"
     ]
    }
   ],
   "source": [
    "from control import permanent_control\n",
    "from perturbed_graph import PerturbedGraph\n",
    "# inputs = [\"DELTA\",\"ECM\",\"EGF\",\"FAT4_L\",\"HGF\",\"IL6\",\"ROS\",\"RPTP_L\",\"TGFB\",\"WNT\"]\n",
    "\n",
    "vars = bn.variables()\n",
    "rg = bn.graph()\n",
    "pg = PerturbedGraph(bn,\n",
    "                    [\"v_SPK1\", \"v_S1P\", \"v_PDGFR\", \"v_PI3K\", \"v_JAK\", \"v_RAS\", \"v_NFk\", \"v_MEK\", \"v_ERK\"],\n",
    "                    [\"v_DISC\", \"v_Ceramide\", \"v_Caspase\", \"v_SOCS\", \"v_GAP\"])\n",
    "\n",
    "start = datetime.now()\n",
    "control = permanent_control(pg, {\"v_Apoptosis\": False}, 1)\n",
    "end = datetime.now()\n",
    "print(f'permanent control {end - start}')\n"
   ],
   "metadata": {
    "collapsed": false,
    "pycharm": {
     "name": "#%%\n"
    }
   }
  },
  {
   "cell_type": "code",
   "execution_count": 8,
   "outputs": [
    {
     "name": "stdout",
     "output_type": "stream",
     "text": [
      "ColorSet(cardinality=64)\n"
     ]
    }
   ],
   "source": [
    "print(control.)"
   ],
   "metadata": {
    "collapsed": false,
    "pycharm": {
     "name": "#%%\n"
    }
   }
  },
  {
   "cell_type": "markdown",
   "source": [],
   "metadata": {
    "collapsed": false,
    "pycharm": {
     "name": "#%% md\n"
    }
   }
  }
 ],
 "metadata": {
  "kernelspec": {
   "display_name": "Python 3",
   "language": "python",
   "name": "python3"
  },
  "language_info": {
   "codemirror_mode": {
    "name": "ipython",
    "version": 2
   },
   "file_extension": ".py",
   "mimetype": "text/x-python",
   "name": "python",
   "nbconvert_exporter": "python",
   "pygments_lexer": "ipython2",
   "version": "2.7.6"
  }
 },
 "nbformat": 4,
 "nbformat_minor": 0
}